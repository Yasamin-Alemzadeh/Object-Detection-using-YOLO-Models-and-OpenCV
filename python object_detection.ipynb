{
 "cells": [
  {
   "cell_type": "markdown",
   "metadata": {},
   "source": [
    "# Introduction and Library Installation"
   ]
  },
  {
   "cell_type": "markdown",
   "metadata": {},
   "source": [
    "In this section, we'll introduce the Ultralytics and OpenCV libraries and guide you through the installation process using pip."
   ]
  },
  {
   "cell_type": "markdown",
   "metadata": {},
   "source": [
    "## Introduction to Ultralytics and OpenCV Libraries"
   ]
  },
  {
   "cell_type": "markdown",
   "metadata": {},
   "source": [
    "`Ultralytics` is a popular open-source computer vision library that provides state-of-the-art implementations of deep learning models, particularly for object detection and image classification tasks. It offers easy-to-use APIs and pre-trained models, making it a go-to choice for many developers and researchers in the field of computer vision."
   ]
  },
  {
   "cell_type": "markdown",
   "metadata": {},
   "source": [
    "`OpenCV (Open Source Computer Vision Library)` is another widely used library for computer vision tasks. It provides a comprehensive set of functions and algorithms for image processing, video analysis, and machine learning. OpenCV is written in C++ and has bindings for Python, making it accessible and versatile for various applications."
   ]
  },
  {
   "cell_type": "markdown",
   "metadata": {},
   "source": [
    "## Installing Libraries using pip"
   ]
  },
  {
   "cell_type": "markdown",
   "metadata": {},
   "source": [
    "To install Ultralytics and OpenCV libraries, you can use the Python package manager pip. If you haven't installed pip yet, you can do so by following the instructions on the official Python website."
   ]
  },
  {
   "cell_type": "markdown",
   "metadata": {},
   "source": [
    "Once pip is installed, you can install Ultralytics and OpenCV by running the following commands in your terminal or command prompt:\n",
    "\n",
    "`pip install yolov5`  `# Install Ultralytics library for YOLO models`\n",
    "\n",
    "\n",
    "`pip install opencv-python`  `# Install OpenCV library for computer vision tasks`"
   ]
  },
  {
   "cell_type": "markdown",
   "metadata": {},
   "source": [
    "Make sure to run these commands in your terminal with appropriate permissions, or within a virtual environment if you're working in a project-specific environment.\n",
    "\n",
    "\n",
    "With Ultralytics and OpenCV installed, you're ready to dive into object detection and image processing tasks using YOLO models and OpenCV functions."
   ]
  },
  {
   "cell_type": "markdown",
   "metadata": {},
   "source": [
    "# Problem Introduction"
   ]
  },
  {
   "cell_type": "markdown",
   "metadata": {},
   "source": [
    "In this section, we'll delve into the problem space surrounding object detection and image processing using YOLO (You Only Look Once) models. We'll explore the significance of object detection in images and its diverse applications across various domains."
   ]
  },
  {
   "cell_type": "markdown",
   "metadata": {},
   "source": [
    "## Explanation about Object Detection and Image Processing using YOLO Models"
   ]
  },
  {
   "cell_type": "markdown",
   "metadata": {},
   "source": [
    "Object detection is a fundamental task in computer vision that involves identifying and locating objects within images or video frames. The goal is to accurately classify the objects present in an image and determine their precise locations using bounding boxes."
   ]
  },
  {
   "cell_type": "markdown",
   "metadata": {},
   "source": [
    "YOLO (You Only Look Once) is a popular deep learning architecture for object detection tasks. Unlike traditional approaches that involve sliding window techniques or region proposal networks, YOLO takes a different approach by framing object detection as a regression problem. It divides the input image into a grid and predicts bounding boxes and class probabilities directly from the entire image in one pass."
   ]
  },
  {
   "cell_type": "markdown",
   "metadata": {},
   "source": [
    "## Importance of Object Detection in Images and its Applications"
   ]
  },
  {
   "cell_type": "markdown",
   "metadata": {},
   "source": [
    "`Autonomous Vehicles`: Object detection is essential for autonomous vehicles to perceive and understand their surroundings. It enables vehicles to detect and track pedestrians, vehicles, traffic signs, and other objects on the road to ensure safe navigation.\n",
    "\n",
    "\n",
    "`Surveillance Systems`: In security and surveillance systems, object detection helps in detecting and monitoring suspicious activities, intruders, and objects of interest in video streams or static images.\n",
    "\n",
    "\n",
    "`Retail Analytics`: Object detection is used in retail environments for inventory management, shelf monitoring, and customer behavior analysis. It enables retailers to track product availability, optimize shelf layouts, and analyze customer interactions with products.\n",
    "\n",
    "\n",
    "`Medical Imaging`: In medical imaging, object detection aids in identifying anatomical structures, abnormalities, and pathological conditions in medical scans such as X-rays, MRIs, and CT scans. It assists healthcare professionals in diagnosis, treatment planning, and disease monitoring.\n",
    "\n",
    "\n",
    "By accurately detecting and localizing objects in images, YOLO models facilitate a wide range of applications across industries, contributing to advancements in technology, safety, and efficiency."
   ]
  },
  {
   "cell_type": "markdown",
   "metadata": {},
   "source": [
    "# Using YOLO Model for Object Detection in Images"
   ]
  },
  {
   "cell_type": "markdown",
   "metadata": {},
   "source": [
    "In this section, we'll learn how to utilize the YOLO (You Only Look Once) model for object detection in images. We'll cover the steps involved in loading the YOLO model, detecting objects in an image, and interpreting the detected results to display object categories and model confidence."
   ]
  },
  {
   "cell_type": "code",
   "execution_count": 2,
   "metadata": {},
   "outputs": [],
   "source": [
    "# وارد کردن کتابخانه‌های مورد نیاز\n",
    "# Importing required libraries\n",
    "from ultralytics import YOLO\n",
    "from ultralytics.utils.plotting import Annotator\n",
    "import cv2"
   ]
  },
  {
   "cell_type": "code",
   "execution_count": 3,
   "metadata": {},
   "outputs": [],
   "source": [
    "# ایجاد یک نمونه از مدل YOLO با استفاده از فایل آموزش دیده شده yolov8n.pt\n",
    "# Creating an instance of the YOLO model using the trained model file yolov8n.pt\n",
    "model = YOLO('yolov8n.pt')"
   ]
  },
  {
   "cell_type": "code",
   "execution_count": 4,
   "metadata": {},
   "outputs": [],
   "source": [
    "# ایجاد یک نمونه دیگر از مدل YOLO برای تشخیص تقسیم بندی\n",
    "# Creating another instance of the YOLO model for segmentation\n",
    "model2 = YOLO('yolov8n-seg.pt')"
   ]
  },
  {
   "cell_type": "markdown",
   "metadata": {},
   "source": [
    "## Detecting Objects in an Image and Displaying Results"
   ]
  },
  {
   "cell_type": "markdown",
   "metadata": {},
   "source": [
    "Once the YOLO model is loaded, we can use it to detect objects in an image. We'll pass the image to the model and obtain the detection results, which include bounding boxes, object categories, and confidence scores. We'll then visualize the detection results by drawing bounding boxes around detected objects on the image."
   ]
  },
  {
   "cell_type": "code",
   "execution_count": 5,
   "metadata": {},
   "outputs": [
    {
     "name": "stderr",
     "output_type": "stream",
     "text": [
      "\n",
      "image 1/1 c:\\Users\\ya30\\Desktop\\aioleran7\\ai_deep_j12\\bus.jpg: 320x640 1 bus, 93.1ms\n",
      "Speed: 2.0ms preprocess, 93.1ms inference, 2.0ms postprocess per image at shape (1, 3, 320, 640)\n"
     ]
    },
    {
     "name": "stdout",
     "output_type": "stream",
     "text": [
      "tensor(5.)\n"
     ]
    }
   ],
   "source": [
    "# انجام تشخیص بر روی تصویر bus.jpg و گرفتن نتایج\n",
    "# Performing detection on the image bus.jpg and getting the results\n",
    "result = model('bus.jpg')\n",
    "print(result[0].boxes.cls[0])  # چاپ نام کلاس اشیا شناسایی شده"
   ]
  },
  {
   "cell_type": "code",
   "execution_count": 6,
   "metadata": {},
   "outputs": [
    {
     "data": {
      "text/plain": [
       "'bus'"
      ]
     },
     "execution_count": 6,
     "metadata": {},
     "output_type": "execute_result"
    }
   ],
   "source": [
    "# دریافت نام کلاس‌ها\n",
    "# Getting the class names\n",
    "class_names = result[0].names\n",
    "class_names[result[0].boxes.cls[0].item()]"
   ]
  },
  {
   "cell_type": "code",
   "execution_count": 7,
   "metadata": {},
   "outputs": [
    {
     "name": "stdout",
     "output_type": "stream",
     "text": [
      "93.7484860420227 %\n"
     ]
    }
   ],
   "source": [
    "# محاسبه و چاپ درصد اطمینان مدل\n",
    "# Calculating and printing the model's confidence percentage\n",
    "conf = result[0].boxes[0].conf[0].item() * 100\n",
    "print(conf, '%')"
   ]
  },
  {
   "cell_type": "code",
   "execution_count": 8,
   "metadata": {},
   "outputs": [],
   "source": [
    "# خواندن تصویر sakht.jpg\n",
    "# Reading the image sakht.jpg\n",
    "img = cv2.imread(\"sakht.jpg\")"
   ]
  },
  {
   "cell_type": "code",
   "execution_count": 9,
   "metadata": {},
   "outputs": [
    {
     "name": "stderr",
     "output_type": "stream",
     "text": [
      "\n",
      "image 1/1 c:\\Users\\ya30\\Desktop\\aioleran7\\ai_deep_j12\\sakht.jpg: 448x640 5 persons, 1 car, 1 dog, 114.6ms\n",
      "Speed: 4.0ms preprocess, 114.6ms inference, 1.0ms postprocess per image at shape (1, 3, 448, 640)\n"
     ]
    }
   ],
   "source": [
    "# انجام تشخیص بر روی تصویر sakht.jpg\n",
    "# Performing detection on the image sakht.jpg\n",
    "result = model('sakht.jpg')"
   ]
  },
  {
   "cell_type": "code",
   "execution_count": 10,
   "metadata": {},
   "outputs": [],
   "source": [
    "# ایجاد یک نمونه دیگر از کلاس Annotator برای نمایش برچسب‌ها\n",
    "# Creating another instance of the Annotator class for labeling\n",
    "box = Annotator(img)"
   ]
  },
  {
   "cell_type": "code",
   "execution_count": 11,
   "metadata": {},
   "outputs": [],
   "source": [
    "# اضافه کردن برچسب‌ها به اشیا شناسایی شده با درصد اطمینان بالا\n",
    "# Adding labels to the detected objects with high confidence percentage\n",
    "for i in range(len(result[0].boxes)):\n",
    "    if (float(result[0].boxes[i].conf) > 0.2):\n",
    "        box.box_label(result[0].boxes[i].xyxy[0], f\"{result[0].names[int(result[0].boxes[i].cls[0].item())]} {float(result[0].boxes[i].conf):.2}\", (0, 0, 255))"
   ]
  },
  {
   "cell_type": "code",
   "execution_count": 12,
   "metadata": {},
   "outputs": [],
   "source": [
    "# نمایش تصویر حاوی برچسب‌های اضافه شده\n",
    "# Displaying the image with the added labels\n",
    "cv2.imshow(\"ax\", img)\n",
    "cv2.waitKey(0)\n",
    "cv2.destroyAllWindows()"
   ]
  },
  {
   "cell_type": "code",
   "execution_count": 13,
   "metadata": {},
   "outputs": [
    {
     "name": "stderr",
     "output_type": "stream",
     "text": [
      "\n",
      "image 1/1 c:\\Users\\ya30\\Desktop\\aioleran7\\ai_deep_j12\\sakht.jpg: 448x640 5 persons, 1 car, 1 dog, 182.3ms\n",
      "Speed: 1.0ms preprocess, 182.3ms inference, 9.6ms postprocess per image at shape (1, 3, 448, 640)\n"
     ]
    }
   ],
   "source": [
    "# انجام تشخیص بر روی تصویر sakht.jpg و نمایش نتایج\n",
    "# Performing detection on the image sakht.jpg and showing the results\n",
    "result = model2('sakht.jpg', show=True)"
   ]
  },
  {
   "cell_type": "code",
   "execution_count": 14,
   "metadata": {},
   "outputs": [
    {
     "name": "stdout",
     "output_type": "stream",
     "text": [
      "\n",
      "image 1/1 i:\\project\\aiolearn-projects\\deep-learning\\ai_deep_j12\\sakht.jpg: 448x640 5 persons, 1 car, 1 dog, 134.7ms\n",
      "Speed: 5.0ms preprocess, 134.7ms inference, 0.0ms postprocess per image at shape (1, 3, 448, 640)\n"
     ]
    }
   ],
   "source": [
    "# انجام تشخیص بر روی تصویر sakht.jpg\n",
    "# Performing detection on the image sakht.jpg\n",
    "result = model('sakht.jpg')"
   ]
  },
  {
   "cell_type": "code",
   "execution_count": 14,
   "metadata": {},
   "outputs": [],
   "source": [
    "# ایجاد یک نمونه دیگر از کلاس Annotator برای نمایش برچسب‌ها\n",
    "# Creating another instance of the Annotator class for labeling\n",
    "box = Annotator(img)"
   ]
  },
  {
   "cell_type": "code",
   "execution_count": 15,
   "metadata": {},
   "outputs": [],
   "source": [
    "# اضافه کردن برچسب‌ها به اشیا شناسایی شده با درصد اطمینان بالا\n",
    "# Adding labels to the detected objects with high confidence percentage\n",
    "for i in range(len(result[0].boxes)):\n",
    "    if (float(result[0].boxes[i].conf) > 0.2):\n",
    "        box.box_label(result[0].boxes[i].xyxy[0], f\"{result[0].names[int(result[0].boxes[i].cls[0].item())]} {float(result[0].boxes[i].conf):.2}\", (0, 0, 255))"
   ]
  },
  {
   "cell_type": "code",
   "execution_count": 16,
   "metadata": {},
   "outputs": [],
   "source": [
    "# نمایش تصویر حاوی برچسب‌های اضافه شده\n",
    "# Displaying the image with the added labels\n",
    "cv2.imshow(\"ax\", img)\n",
    "cv2.waitKey(0)\n",
    "cv2.destroyAllWindows()"
   ]
  },
  {
   "cell_type": "code",
   "execution_count": 17,
   "metadata": {},
   "outputs": [
    {
     "name": "stderr",
     "output_type": "stream",
     "text": [
      "\n",
      "image 1/1 c:\\Users\\ya30\\Desktop\\aioleran7\\ai_deep_j12\\sakht.jpg: 448x640 5 persons, 1 car, 1 dog, 133.3ms\n",
      "Speed: 1.9ms preprocess, 133.3ms inference, 10.5ms postprocess per image at shape (1, 3, 448, 640)\n"
     ]
    }
   ],
   "source": [
    "# انجام تشخیص بر روی تصویر sakht.jpg و نمایش نتایج\n",
    "# Performing detection on the image sakht.jpg and showing the results\n",
    "result = model2('sakht.jpg', show=True)"
   ]
  },
  {
   "cell_type": "code",
   "execution_count": 18,
   "metadata": {},
   "outputs": [
    {
     "name": "stderr",
     "output_type": "stream",
     "text": [
      "Downloading https://github.com/ultralytics/assets/releases/download/v0.0.0/yolov8n-pose.pt to 'yolov8n-pose.pt'...\n",
      "100%|██████████| 6.51M/6.51M [00:01<00:00, 4.53MB/s]\n"
     ]
    }
   ],
   "source": [
    "# ایجاد یک نمونه دیگر از مدل YOLO برای تشخیص نقاط کلیدی\n",
    "# Creating another instance of the YOLO model for keypoint estimation\n",
    "model3 = YOLO('yolov8n-pose.pt')"
   ]
  },
  {
   "cell_type": "code",
   "execution_count": 19,
   "metadata": {},
   "outputs": [
    {
     "name": "stderr",
     "output_type": "stream",
     "text": [
      "\n",
      "image 1/1 c:\\Users\\ya30\\Desktop\\aioleran7\\ai_deep_j12\\sakht.jpg: 448x640 4 persons, 100.8ms\n",
      "Speed: 1.0ms preprocess, 100.8ms inference, 1.0ms postprocess per image at shape (1, 3, 448, 640)\n"
     ]
    },
    {
     "ename": "",
     "evalue": "",
     "output_type": "error",
     "traceback": [
      "\u001b[1;31mThe Kernel crashed while executing code in the the current cell or a previous cell. Please review the code in the cell(s) to identify a possible cause of the failure. Click <a href='https://aka.ms/vscodeJupyterKernelCrash'>here</a> for more info. View Jupyter <a href='command:jupyter.viewOutput'>log</a> for further details."
     ]
    }
   ],
   "source": [
    "# انجام تشخیص بر روی تصویر sakht.jpg و نمایش نتایج\n",
    "# Performing keypoint estimation on the image sakht.jpg and showing the results\n",
    "result = model3('sakht.jpg', show=True)"
   ]
  }
 ],
 "metadata": {
  "kernelspec": {
   "display_name": "Python 3.8.8 64-bit",
   "language": "python",
   "name": "python3"
  },
  "language_info": {
   "codemirror_mode": {
    "name": "ipython",
    "version": 3
   },
   "file_extension": ".py",
   "mimetype": "text/x-python",
   "name": "python",
   "nbconvert_exporter": "python",
   "pygments_lexer": "ipython3",
   "version": "3.8.8"
  },
  "orig_nbformat": 4,
  "vscode": {
   "interpreter": {
    "hash": "570feb405e2e27c949193ac68f46852414290d515b0ba6e5d90d076ed2284471"
   }
  }
 },
 "nbformat": 4,
 "nbformat_minor": 2
}
